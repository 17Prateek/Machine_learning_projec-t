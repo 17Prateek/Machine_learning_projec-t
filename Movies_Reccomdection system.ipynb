{
 "cells": [
  {
   "cell_type": "code",
   "execution_count": 5,
   "id": "dbe9416a-a011-4707-ac54-af6c5d444145",
   "metadata": {},
   "outputs": [
    {
     "name": "stdin",
     "output_type": "stream",
     "text": [
      "Enter movie name : Kabhi Khushi Kabhie Gham\n"
     ]
    },
    {
     "name": "stdout",
     "output_type": "stream",
     "text": [
      "1-  Cyrus\n",
      "2-  10 Years\n",
      "3-  Ong Bak 2\n",
      "4-  Inkheart\n",
      "5-  A Perfect Plan\n"
     ]
    }
   ],
   "source": [
    "import pandas as pd\n",
    "df=pd.read_csv(\"E:/updated_movies.csv\")\n",
    "df=df[['title','overview']]\n",
    "df.drop_duplicates(inplace=True)\n",
    "df.dropna(inplace=True)\n",
    "df=df.reset_index(drop=True)\n",
    "from sklearn.feature_extraction.text import TfidfVectorizer,ENGLISH_STOP_WORDS\n",
    "tf=TfidfVectorizer(lowercase=True,stop_words=list(ENGLISH_STOP_WORDS))\n",
    "x=tf.fit_transform(df.overview).toarray()\n",
    "from sklearn.neighbors import NearestNeighbors\n",
    "model=NearestNeighbors(metric='cosine') \n",
    "model.fit(x)\n",
    "name=input(\"Enter movie name :\")\n",
    "if name in df.title.values:\n",
    "    index=df[df.title==name].index[0]\n",
    "    dis,idx=model.kneighbors([x[index]],n_neighbors=6)\n",
    "    p=1\n",
    "    for i in idx[0][1:]:\n",
    "        print(f\"{p}- \",df.iloc[i].values[0])\n",
    "        p+=1\n",
    "else:\n",
    "    print(\"Movie not found\")"
   ]
  },
  {
   "cell_type": "code",
   "execution_count": null,
   "id": "82e0fa31-3205-4610-ae8b-f7d4ae91efa1",
   "metadata": {},
   "outputs": [],
   "source": []
  }
 ],
 "metadata": {
  "kernelspec": {
   "display_name": "Python 3 (ipykernel)",
   "language": "python",
   "name": "python3"
  },
  "language_info": {
   "codemirror_mode": {
    "name": "ipython",
    "version": 3
   },
   "file_extension": ".py",
   "mimetype": "text/x-python",
   "name": "python",
   "nbconvert_exporter": "python",
   "pygments_lexer": "ipython3",
   "version": "3.11.5"
  },
  "widgets": {
   "application/vnd.jupyter.widget-state+json": {
    "state": {},
    "version_major": 2,
    "version_minor": 0
   }
  }
 },
 "nbformat": 4,
 "nbformat_minor": 5
}
